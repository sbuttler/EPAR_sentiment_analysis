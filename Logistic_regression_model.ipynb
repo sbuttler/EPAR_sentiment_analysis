{
 "cells": [
  {
   "cell_type": "code",
   "execution_count": 27,
   "id": "c40433e6-dd2d-41a2-af12-b91ff2d1ab68",
   "metadata": {},
   "outputs": [],
   "source": [
    "%reload_ext autoreload\n",
    "%autoreload 2\n",
    "\n",
    "import pandas as pd\n",
    "import numpy as np\n",
    "import matplotlib.pyplot as plt\n",
    "\n",
    "from sklearn.model_selection import train_test_split\n",
    "from sklearn.preprocessing import LabelEncoder\n",
    "from sklearn.metrics import confusion_matrix,classification_report\n",
    "\n",
    "from sklearn.linear_model import LogisticRegression\n",
    "\n",
    "from sklearn.feature_extraction.text import CountVectorizer\n",
    "\n",
    "import nltk"
   ]
  },
  {
   "cell_type": "markdown",
   "id": "d4d9b815-8053-4e28-ab9b-dc601b2e6cda",
   "metadata": {},
   "source": [
    "# Load data"
   ]
  },
  {
   "cell_type": "code",
   "execution_count": 2,
   "id": "2541016c-54dd-4ff9-967f-9b1d3cceb15d",
   "metadata": {},
   "outputs": [],
   "source": [
    "df = pd.read_csv('data/Sentences_clean.csv')"
   ]
  },
  {
   "cell_type": "code",
   "execution_count": 4,
   "id": "ef97ead3-3fcd-439b-bcdf-b68ee5a1abaf",
   "metadata": {},
   "outputs": [
    {
     "data": {
      "text/html": [
       "<div>\n",
       "<style scoped>\n",
       "    .dataframe tbody tr th:only-of-type {\n",
       "        vertical-align: middle;\n",
       "    }\n",
       "\n",
       "    .dataframe tbody tr th {\n",
       "        vertical-align: top;\n",
       "    }\n",
       "\n",
       "    .dataframe thead th {\n",
       "        text-align: right;\n",
       "    }\n",
       "</style>\n",
       "<table border=\"1\" class=\"dataframe\">\n",
       "  <thead>\n",
       "    <tr style=\"text-align: right;\">\n",
       "      <th></th>\n",
       "      <th>ID</th>\n",
       "      <th>Sentence_clean</th>\n",
       "      <th>sentiment</th>\n",
       "    </tr>\n",
       "  </thead>\n",
       "  <tbody>\n",
       "    <tr>\n",
       "      <th>0</th>\n",
       "      <td>1</td>\n",
       "      <td>results  nd line treatment show orr    patient...</td>\n",
       "      <td>Positive</td>\n",
       "    </tr>\n",
       "    <tr>\n",
       "      <th>1</th>\n",
       "      <td>2</td>\n",
       "      <td>long duration response high durable response r...</td>\n",
       "      <td>Positive</td>\n",
       "    </tr>\n",
       "    <tr>\n",
       "      <th>2</th>\n",
       "      <td>4</td>\n",
       "      <td>therefore clinical benefit  nd line treatment ...</td>\n",
       "      <td>Positive</td>\n",
       "    </tr>\n",
       "    <tr>\n",
       "      <th>3</th>\n",
       "      <td>5</td>\n",
       "      <td>data provided  st line although preliminary sh...</td>\n",
       "      <td>Positive</td>\n",
       "    </tr>\n",
       "    <tr>\n",
       "      <th>4</th>\n",
       "      <td>6</td>\n",
       "      <td>taking account intrinsic limitation single arm...</td>\n",
       "      <td>Positive</td>\n",
       "    </tr>\n",
       "  </tbody>\n",
       "</table>\n",
       "</div>"
      ],
      "text/plain": [
       "   ID                                     Sentence_clean sentiment\n",
       "0   1  results  nd line treatment show orr    patient...  Positive\n",
       "1   2  long duration response high durable response r...  Positive\n",
       "2   4  therefore clinical benefit  nd line treatment ...  Positive\n",
       "3   5  data provided  st line although preliminary sh...  Positive\n",
       "4   6  taking account intrinsic limitation single arm...  Positive"
      ]
     },
     "execution_count": 4,
     "metadata": {},
     "output_type": "execute_result"
    }
   ],
   "source": [
    "df.head()"
   ]
  },
  {
   "cell_type": "code",
   "execution_count": 10,
   "id": "8159aed0-e47e-4425-9817-61b303656e43",
   "metadata": {},
   "outputs": [],
   "source": [
    "# create stratified train test split \n",
    "\n",
    "train, test = train_test_split(df, test_size=0.2, train_size=0.8, stratify=df['sentiment'])"
   ]
  },
  {
   "cell_type": "code",
   "execution_count": 17,
   "id": "51973809-467d-496c-a4a7-5108941a0718",
   "metadata": {},
   "outputs": [],
   "source": [
    "# encode target\n",
    "\n",
    "le = LabelEncoder()\n",
    "\n",
    "le.fit(train['sentiment'])\n",
    "\n",
    "train['target'] = le.transform(train['sentiment'])\n",
    "test['target'] = le.transform(test['sentiment'])"
   ]
  },
  {
   "cell_type": "code",
   "execution_count": 57,
   "id": "5b840f57-2864-4d57-aee1-c37ccfd8bc5d",
   "metadata": {},
   "outputs": [
    {
     "data": {
      "text/plain": [
       "array(['Negative', 'Neutral', 'Positive'], dtype=object)"
      ]
     },
     "execution_count": 57,
     "metadata": {},
     "output_type": "execute_result"
    }
   ],
   "source": [
    "le.classes_"
   ]
  },
  {
   "cell_type": "markdown",
   "id": "5c84171c-7b43-473b-8fbc-7d65d14b980b",
   "metadata": {},
   "source": [
    "# Create features"
   ]
  },
  {
   "cell_type": "code",
   "execution_count": 12,
   "id": "5c324b69-4512-45b1-bd82-731c76717f99",
   "metadata": {},
   "outputs": [],
   "source": [
    "# create bag of words\n",
    "\n",
    "vectorizer = CountVectorizer(token_pattern=r'\\b\\w+\\b')\n",
    "train_matrix = vectorizer.fit_transform(train['Sentence_clean'])\n",
    "test_matrix = vectorizer.transform(test['Sentence_clean'])"
   ]
  },
  {
   "cell_type": "code",
   "execution_count": 13,
   "id": "2ea615d5-d1bc-47de-97ae-31ca2cee8b01",
   "metadata": {},
   "outputs": [
    {
     "data": {
      "text/plain": [
       "<187x1073 sparse matrix of type '<class 'numpy.int64'>'\n",
       "\twith 2585 stored elements in Compressed Sparse Row format>"
      ]
     },
     "execution_count": 13,
     "metadata": {},
     "output_type": "execute_result"
    }
   ],
   "source": []
  },
  {
   "cell_type": "markdown",
   "id": "50e0de6a-b7ce-4b5e-ab58-41dd45959aea",
   "metadata": {},
   "source": [
    "# Train simple logistic regression model"
   ]
  },
  {
   "cell_type": "code",
   "execution_count": 19,
   "id": "42583a62-a6da-41f8-9892-23dc6f87c494",
   "metadata": {},
   "outputs": [],
   "source": [
    "X_train = train_matrix\n",
    "X_test = test_matrix\n",
    "y_train = train['target']\n",
    "y_test = test['target']"
   ]
  },
  {
   "cell_type": "code",
   "execution_count": 21,
   "id": "d5bcd9d6-4198-4ad5-9d3d-da1e12eea665",
   "metadata": {},
   "outputs": [
    {
     "data": {
      "text/plain": [
       "LogisticRegression()"
      ]
     },
     "execution_count": 21,
     "metadata": {},
     "output_type": "execute_result"
    }
   ],
   "source": [
    "# logistic regression model\n",
    "\n",
    "lr = LogisticRegression()\n",
    "\n",
    "# fit\n",
    "lr.fit(X_train,y_train)"
   ]
  },
  {
   "cell_type": "code",
   "execution_count": 23,
   "id": "6b88b4ff-2023-4459-a0f6-96b096db168e",
   "metadata": {},
   "outputs": [],
   "source": [
    "predictions = lr.predict(X_test)"
   ]
  },
  {
   "cell_type": "code",
   "execution_count": 53,
   "id": "669d4b6f-c31b-4b20-b9ad-7ff881f7804e",
   "metadata": {},
   "outputs": [
    {
     "data": {
      "text/plain": [
       "array([2, 1, 0])"
      ]
     },
     "execution_count": 53,
     "metadata": {},
     "output_type": "execute_result"
    }
   ],
   "source": [
    "y_train.unique()"
   ]
  },
  {
   "cell_type": "code",
   "execution_count": 54,
   "id": "0b32c887-9ef5-488e-8f86-fb146f579750",
   "metadata": {},
   "outputs": [
    {
     "data": {
      "text/plain": [
       "array([[ 2,  0,  0],\n",
       "       [ 0,  7,  2],\n",
       "       [ 4,  6, 26]])"
      ]
     },
     "execution_count": 54,
     "metadata": {},
     "output_type": "execute_result"
    }
   ],
   "source": [
    "# find accuracy, precision, recall:\n",
    "\n",
    "confusion_matrix(predictions,y_test, labels=[0,1,2])"
   ]
  },
  {
   "cell_type": "code",
   "execution_count": 52,
   "id": "07eab623-ce0b-4004-9c4d-1d93db1e54f5",
   "metadata": {},
   "outputs": [
    {
     "data": {
      "text/plain": [
       "sentiment\n",
       "Negative     6\n",
       "Neutral     13\n",
       "Positive    28\n",
       "Name: ID, dtype: int64"
      ]
     },
     "execution_count": 52,
     "metadata": {},
     "output_type": "execute_result"
    }
   ],
   "source": [
    "test.groupby('sentiment')['ID'].count()"
   ]
  },
  {
   "cell_type": "code",
   "execution_count": 26,
   "id": "0559a6f7-a8c2-46e5-a05f-42e2d7ffaed7",
   "metadata": {},
   "outputs": [
    {
     "name": "stdout",
     "output_type": "stream",
     "text": [
      "              precision    recall  f1-score   support\n",
      "\n",
      "           0       0.33      1.00      0.50         2\n",
      "           1       0.54      0.78      0.64         9\n",
      "           2       0.93      0.72      0.81        36\n",
      "\n",
      "    accuracy                           0.74        47\n",
      "   macro avg       0.60      0.83      0.65        47\n",
      "weighted avg       0.83      0.74      0.77        47\n",
      "\n"
     ]
    }
   ],
   "source": [
    "print(classification_report(predictions,y_test))"
   ]
  },
  {
   "cell_type": "code",
   "execution_count": 45,
   "id": "0a21b24b-0a80-4876-bd6a-8b11ae51baf7",
   "metadata": {},
   "outputs": [
    {
     "data": {
      "text/plain": [
       "GaussianNB()"
      ]
     },
     "execution_count": 45,
     "metadata": {},
     "output_type": "execute_result"
    }
   ],
   "source": [
    "# Naive Bayes \n",
    "from sklearn.naive_bayes import GaussianNB\n",
    "classifier = GaussianNB()\n",
    "classifier.fit(X_train.toarray(), y_train)"
   ]
  },
  {
   "cell_type": "code",
   "execution_count": 47,
   "id": "071f5fab-b976-422d-a668-84382feb4707",
   "metadata": {},
   "outputs": [],
   "source": [
    "# Predict Class\n",
    "y_pred = classifier.predict(X_test.toarray())"
   ]
  },
  {
   "cell_type": "code",
   "execution_count": 49,
   "id": "ac9166b0-c46b-40db-80cb-6218b4c7e22f",
   "metadata": {},
   "outputs": [
    {
     "name": "stdout",
     "output_type": "stream",
     "text": [
      "              precision    recall  f1-score   support\n",
      "\n",
      "           0       0.33      0.50      0.40         4\n",
      "           1       0.31      0.40      0.35        10\n",
      "           2       0.82      0.70      0.75        33\n",
      "\n",
      "    accuracy                           0.62        47\n",
      "   macro avg       0.49      0.53      0.50        47\n",
      "weighted avg       0.67      0.62      0.64        47\n",
      "\n"
     ]
    }
   ],
   "source": [
    "print(classification_report(y_pred,y_test))"
   ]
  },
  {
   "cell_type": "code",
   "execution_count": null,
   "id": "74c277bf-0c1b-4c29-b368-5b22257315ad",
   "metadata": {},
   "outputs": [],
   "source": []
  }
 ],
 "metadata": {
  "kernelspec": {
   "display_name": "bayer",
   "language": "python",
   "name": "bayer"
  },
  "language_info": {
   "codemirror_mode": {
    "name": "ipython",
    "version": 3
   },
   "file_extension": ".py",
   "mimetype": "text/x-python",
   "name": "python",
   "nbconvert_exporter": "python",
   "pygments_lexer": "ipython3",
   "version": "3.8.11"
  }
 },
 "nbformat": 4,
 "nbformat_minor": 5
}
