{
 "cells": [
  {
   "cell_type": "code",
   "execution_count": 1,
   "id": "c40433e6-dd2d-41a2-af12-b91ff2d1ab68",
   "metadata": {},
   "outputs": [],
   "source": [
    "%reload_ext autoreload\n",
    "%autoreload 2\n",
    "\n",
    "import pandas as pd\n",
    "import numpy as np\n",
    "import matplotlib.pyplot as plt\n",
    "\n",
    "from sklearn.model_selection import train_test_split\n",
    "from sklearn.preprocessing import LabelEncoder\n",
    "from sklearn.metrics import confusion_matrix, classification_report, ConfusionMatrixDisplay\n",
    "\n",
    "from sklearn.linear_model import LogisticRegression\n",
    "\n",
    "from sklearn.feature_extraction.text import CountVectorizer\n",
    "\n",
    "import nltk\n",
    "\n",
    "import shap"
   ]
  },
  {
   "cell_type": "markdown",
   "id": "d4d9b815-8053-4e28-ab9b-dc601b2e6cda",
   "metadata": {},
   "source": [
    "# Load data"
   ]
  },
  {
   "cell_type": "code",
   "execution_count": null,
   "id": "2541016c-54dd-4ff9-967f-9b1d3cceb15d",
   "metadata": {},
   "outputs": [],
   "source": [
    "df = pd.read_csv('data/Sentences_clean.csv')"
   ]
  },
  {
   "cell_type": "code",
   "execution_count": null,
   "id": "ef97ead3-3fcd-439b-bcdf-b68ee5a1abaf",
   "metadata": {},
   "outputs": [],
   "source": [
    "df.head()"
   ]
  },
  {
   "cell_type": "code",
   "execution_count": null,
   "id": "8159aed0-e47e-4425-9817-61b303656e43",
   "metadata": {},
   "outputs": [],
   "source": [
    "# create stratified train test split \n",
    "\n",
    "train, test = train_test_split(df, test_size=0.2, train_size=0.8, stratify=df['sentiment'], random_state=0)"
   ]
  },
  {
   "cell_type": "code",
   "execution_count": null,
   "id": "51973809-467d-496c-a4a7-5108941a0718",
   "metadata": {},
   "outputs": [],
   "source": [
    "# encode target\n",
    "\n",
    "le = LabelEncoder()\n",
    "\n",
    "le.fit(train['sentiment'])\n",
    "\n",
    "train['target'] = le.transform(train['sentiment'])\n",
    "test['target'] = le.transform(test['sentiment'])"
   ]
  },
  {
   "cell_type": "code",
   "execution_count": null,
   "id": "5b840f57-2864-4d57-aee1-c37ccfd8bc5d",
   "metadata": {},
   "outputs": [],
   "source": [
    "le.classes_"
   ]
  },
  {
   "cell_type": "markdown",
   "id": "5c84171c-7b43-473b-8fbc-7d65d14b980b",
   "metadata": {},
   "source": [
    "# Create features"
   ]
  },
  {
   "cell_type": "code",
   "execution_count": null,
   "id": "5c324b69-4512-45b1-bd82-731c76717f99",
   "metadata": {},
   "outputs": [],
   "source": [
    "# create bag of words\n",
    "\n",
    "vectorizer = CountVectorizer(token_pattern=r'\\b\\w+\\b')\n",
    "train_matrix = vectorizer.fit_transform(train['Sentence_clean'])\n",
    "test_matrix = vectorizer.transform(test['Sentence_clean'])"
   ]
  },
  {
   "cell_type": "markdown",
   "id": "50e0de6a-b7ce-4b5e-ab58-41dd45959aea",
   "metadata": {},
   "source": [
    "# Train simple logistic regression model"
   ]
  },
  {
   "cell_type": "code",
   "execution_count": null,
   "id": "42583a62-a6da-41f8-9892-23dc6f87c494",
   "metadata": {},
   "outputs": [],
   "source": [
    "X_train = train_matrix\n",
    "X_test = test_matrix\n",
    "y_train = train['target']\n",
    "y_test = test['target']"
   ]
  },
  {
   "cell_type": "code",
   "execution_count": null,
   "id": "d5bcd9d6-4198-4ad5-9d3d-da1e12eea665",
   "metadata": {},
   "outputs": [],
   "source": [
    "# logistic regression model\n",
    "\n",
    "lr = LogisticRegression(random_state=0)\n",
    "\n",
    "# fit\n",
    "lr.fit(X_train,y_train)"
   ]
  },
  {
   "cell_type": "code",
   "execution_count": null,
   "id": "6b88b4ff-2023-4459-a0f6-96b096db168e",
   "metadata": {},
   "outputs": [],
   "source": [
    "predictions = lr.predict(X_test)"
   ]
  },
  {
   "cell_type": "code",
   "execution_count": null,
   "id": "0b32c887-9ef5-488e-8f86-fb146f579750",
   "metadata": {},
   "outputs": [],
   "source": [
    "# plot confusions matrix\n",
    "\n",
    "cf_matrix = confusion_matrix(predictions,y_test)\n",
    "\n",
    "disp = ConfusionMatrixDisplay(cf_matrix, display_labels=le.classes_)\n",
    "\n",
    "disp.plot()\n",
    "\n",
    "plt.show()"
   ]
  },
  {
   "cell_type": "code",
   "execution_count": null,
   "id": "0559a6f7-a8c2-46e5-a05f-42e2d7ffaed7",
   "metadata": {},
   "outputs": [],
   "source": [
    "print(classification_report(predictions,y_test, labels=[0,1,2], target_names=le.classes_))"
   ]
  },
  {
   "cell_type": "markdown",
   "id": "d33fa09d-76c2-4876-a6e3-e68516720c9c",
   "metadata": {},
   "source": [
    "# Explain sentiment with SHAP"
   ]
  },
  {
   "cell_type": "code",
   "execution_count": null,
   "id": "f6973004-846d-48e8-a781-0763d7114b20",
   "metadata": {},
   "outputs": [],
   "source": [
    "# initialize for plotting\n",
    "shap.initjs()"
   ]
  },
  {
   "cell_type": "code",
   "execution_count": null,
   "id": "240743fd-c51e-44ff-baba-03e3b5ae4748",
   "metadata": {},
   "outputs": [],
   "source": [
    "# create linear SHAP explainer\n",
    "\n",
    "explainer = shap.explainers.Linear(lr, X_train.toarray(),output_names=le.classes_, feature_names=vectorizer.get_feature_names_out())\n",
    "\n",
    "# calculate SHAP values\n",
    "shap_values = explainer.shap_values(X_test.toarray())"
   ]
  },
  {
   "cell_type": "code",
   "execution_count": null,
   "id": "f3946fd6-4b97-4aff-bd64-e159b6db668d",
   "metadata": {},
   "outputs": [],
   "source": [
    "# create SHAP summary plot \n",
    "shap.summary_plot(shap_values, X_test.toarray(), plot_type=\"bar\", class_names= le.classes_, feature_names = vectorizer.get_feature_names_out(), color=plt.get_cmap(\"tab20c\"))"
   ]
  },
  {
   "cell_type": "code",
   "execution_count": null,
   "id": "ffa5fa6f-4679-4b2f-9ceb-678e3a405aa9",
   "metadata": {},
   "outputs": [],
   "source": [
    "# create SHAP force plot for positive instance\n",
    "\n",
    "idx = 1\n",
    "# only explain prediction for top class\n",
    "c = predictions[idx]\n",
    "\n",
    "print('Force plot for test sample with index {} classified as {}'.format(idx, le.classes_[c].lower()))\n",
    "\n",
    "shap.force_plot(explainer.expected_value[c], shap_values[c][idx,:], X_test.toarray()[idx], feature_names = vectorizer.get_feature_names_out())"
   ]
  },
  {
   "cell_type": "code",
   "execution_count": null,
   "id": "eaf16e23-5ae8-4d46-aea7-cd88a80f8b77",
   "metadata": {},
   "outputs": [],
   "source": [
    "# create SHAP force plot for neutral instance\n",
    "idx = 0\n",
    "# only explain prediction for top class\n",
    "c = predictions[idx]\n",
    "\n",
    "print('Force plot for test sample with index {} classified as {}'.format(idx, le.classes_[c].lower()))\n",
    "\n",
    "shap.force_plot(explainer.expected_value[c], shap_values[c][idx,:], X_test.toarray()[idx], feature_names = vectorizer.get_feature_names_out())"
   ]
  },
  {
   "cell_type": "code",
   "execution_count": null,
   "id": "900c0ec8-7a51-420a-9572-d3d9ba347303",
   "metadata": {},
   "outputs": [],
   "source": [
    "# create SHAP force plot for negative instance\n",
    "idx = -5\n",
    "# only explain prediction for top class\n",
    "c = predictions[idx]\n",
    "\n",
    "print('Force plot for test sample with index {} classified as {}'.format(idx, le.classes_[c].lower()))\n",
    "\n",
    "shap.force_plot(explainer.expected_value[c], shap_values[c][idx,:], X_test.toarray()[idx], feature_names = vectorizer.get_feature_names_out())"
   ]
  },
  {
   "cell_type": "code",
   "execution_count": null,
   "id": "f38c5006-7618-486b-9fb1-f14e3a1f8e80",
   "metadata": {},
   "outputs": [],
   "source": []
  }
 ],
 "metadata": {
  "kernelspec": {
   "display_name": "bayer",
   "language": "python",
   "name": "bayer"
  },
  "language_info": {
   "codemirror_mode": {
    "name": "ipython",
    "version": 3
   },
   "file_extension": ".py",
   "mimetype": "text/x-python",
   "name": "python",
   "nbconvert_exporter": "python",
   "pygments_lexer": "ipython3",
   "version": "3.8.11"
  }
 },
 "nbformat": 4,
 "nbformat_minor": 5
}
